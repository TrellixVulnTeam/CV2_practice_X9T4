{
 "cells": [
  {
   "cell_type": "code",
   "execution_count": 5,
   "metadata": {},
   "outputs": [],
   "source": [
    "import cv2\n",
    "import os\n",
    "import numpy as np"
   ]
  },
  {
   "cell_type": "code",
   "execution_count": 53,
   "metadata": {},
   "outputs": [],
   "source": [
    "def cpd():  # 현재 디렉토리 확인\n",
    "    return os.getcwd()  # 현재 파이썬프로젝트 폴더 위치 표시"
   ]
  },
  {
   "cell_type": "code",
   "execution_count": 54,
   "metadata": {},
   "outputs": [
    {
     "data": {
      "text/plain": [
       "'C:\\\\Users\\\\PKS\\\\PycharmProjects\\\\CV2_practice'"
      ]
     },
     "execution_count": 54,
     "metadata": {},
     "output_type": "execute_result"
    }
   ],
   "source": [
    "cpd()"
   ]
  },
  {
   "cell_type": "code",
   "execution_count": 55,
   "metadata": {},
   "outputs": [],
   "source": [
    "def bip(video_name):  # background image processing (배경이미지 처리함수)\n",
    "    input_video = video_name\n",
    "    cap = cv2.VideoCapture(input_video)  # 동영상 캡처 객체 생성\n",
    "    fps = cap.get(cv2.CAP_PROP_FPS)  # 초당 프레임\n",
    "    fwt = round((1 / fps) * 1000)  # 프레임당 재생시간 설정 & 입력단위가 ms이므로 *1000 & 정수입력으로 round처리\n",
    "\n",
    "    cbs = cv2.createBackgroundSubtractorKNN()  # 배경제거 객체생성함수 선언\n",
    "\n",
    "    if cap.isOpened():  # 캡쳐객체 초기화 확인 (동영상을 불러올 수 있는지 확인하는듯)\n",
    "\n",
    "        while cap.isOpened():  # 초기화 되는동안 영상재생\n",
    "            ret, frame = cap.read()  # 프레임 추출가능(T/F), 추출한프레임\n",
    "\n",
    "            if ret:  # run = True (캡쳐 객체 호출가능) : 동영상 재생시작\n",
    "                frame = cv2.resize(frame, (720, 480)) # 프레임이미지 크기 변환 720*480\n",
    "                rmbg_frame = cbs.apply(frame)  # 배경제거한 프레임 생성\n",
    "                back_frame = cbs.getBackgroundImage()  # 배경 프레임 생성\n",
    "                \n",
    "                cv2.imshow(input_video, frame)  # 입력비디오의 프레임 이미지를 보여줌\n",
    "                cv2.imshow(\"rmbg_\" + input_video, rmbg_frame)  # 배경제거된 프레임 이미지를 보여줌\n",
    "                cv2.imshow(\"back_\" + input_video, back_frame)  # 배경 프레임 이미지를 보여줌\n",
    "\n",
    "                if cv2.waitKey(fwt) == ord('q'):  # fps만큼 재생하다가 q입력되면 동작 종료\n",
    "                    cap.release()\n",
    "                    cv2.destroyAllWindows()\n",
    "                    print(\"Stop video\")\n",
    "                    break\n",
    "\n",
    "            else:  # run = False (캡쳐 객체 호출불가능) : 동영상 자동 종료\n",
    "                cap.release()  # 캡쳐 자원 반납\n",
    "                cv2.destroyAllWindows()  # 창종료\n",
    "                print(\"End of playback\")\n",
    "\n",
    "    else:\n",
    "        print(\"Can't open\")"
   ]
  },
  {
   "cell_type": "code",
   "execution_count": 56,
   "metadata": {},
   "outputs": [
    {
     "name": "stdout",
     "output_type": "stream",
     "text": [
      "Stop video\n"
     ]
    }
   ],
   "source": [
    "bip(\"smp.mp4\")"
   ]
  },
  {
   "cell_type": "code",
   "execution_count": 1,
   "metadata": {},
   "outputs": [],
   "source": [
    "def scs(video_name):  # screenshot (영상 이미지 저장)\n",
    "    input_video = video_name\n",
    "    cap = cv2.VideoCapture(input_video)  # 동영상 캡처 객체 생성\n",
    "    fps = cap.get(cv2.CAP_PROP_FPS)  # 초당 프레임\n",
    "    fwt = round((1 / fps) * 1000)  # 프레임당 재생시간 설정 & 입력단위가 ms이므로 *1000 & 정수입력으로 round처리\n",
    "\n",
    "    cbs = cv2.createBackgroundSubtractorKNN()  # 배경제거 객체생성함수 선언\n",
    "\n",
    "    if cap.isOpened():  # 캡쳐객체 초기화 확인 (동영상을 불러올 수 있는지 확인하는듯)\n",
    "\n",
    "        while cap.isOpened():  # 초기화 되는동안 영상재생\n",
    "            ret, frame = cap.read()  # 프레임 추출가능(T/F), 추출한프레임\n",
    "\n",
    "            if ret:  # run = True (캡쳐 객체 호출가능) : 동영상 재생시작\n",
    "                origin_frame = cv2.resize(frame, (720, 480))  # 프레임이미지 크기 변환 720*480\n",
    "                rmbg_frame = cbs.apply(origin_frame)  # 배경제거한 프레임 생성\n",
    "                back_frame = cbs.getBackgroundImage()  # 배경 프레임 생성 (입력값X : 자동으로 현재 출력중인 영상을 처리함)\n",
    "\n",
    "                cv2.imshow(input_video, origin_frame)  # 입력비디오의 프레임 이미지를 보여줌\n",
    "                cv2.imshow('rmbg_' + input_video, rmbg_frame)  # 배경제거된 프레임 이미지를 보여줌\n",
    "                cv2.imshow('back_' + input_video, back_frame)  # 배경 프레임 이미지를 보여줌\n",
    "\n",
    "                if cv2.waitKey(1) == ord('s'):  # 's'입력시 함수 동작\n",
    "                    frame_count = cap.get(cv2.CAP_PROP_POS_FRAMES)  # 현재 프레임 번호지정\n",
    "                    cv2.imwrite('image/' + str(frame_count) + '_origin.jpg', origin_frame)  # 해당 프레임 이미지 저장\n",
    "                    cv2.imwrite('image/' + str(frame_count) + '_rmbg.jpg', rmbg_frame)\n",
    "                    cv2.imwrite('image/' + str(frame_count) + '_back.jpg', back_frame)\n",
    "                    \n",
    "                if cv2.waitKey(1) == ord('d'):  # 's'입력시 함수 동작\n",
    "                    print(rmbg_frame[0, 0])\n",
    "                    print(rmbg_frame[85, 207])\n",
    "\n",
    "                if cv2.waitKey(fwt-2) == ord('q'):  # fps만큼 재생하다가 'q'입력되면 동작 종료\n",
    "                    cap.release()\n",
    "                    cv2.destroyAllWindows()\n",
    "                    print(\"Stop video\")\n",
    "                    break\n",
    "\n",
    "            else:  # run = False (캡쳐 객체 호출불가능) : 동영상 자동 종료\n",
    "                cap.release()  # 캡쳐 자원 반납\n",
    "                cv2.destroyAllWindows()  # 창종료\n",
    "                print(\"End of playback\")\n",
    "\n",
    "    else:\n",
    "        print(\"Can't open\")"
   ]
  },
  {
   "cell_type": "code",
   "execution_count": 2,
   "metadata": {},
   "outputs": [
    {
     "ename": "NameError",
     "evalue": "name 'cv2' is not defined",
     "output_type": "error",
     "traceback": [
      "\u001b[1;31m---------------------------------------------------------------------------\u001b[0m",
      "\u001b[1;31mNameError\u001b[0m                                 Traceback (most recent call last)",
      "\u001b[1;32m<ipython-input-2-c564b82633ef>\u001b[0m in \u001b[0;36m<module>\u001b[1;34m\u001b[0m\n\u001b[1;32m----> 1\u001b[1;33m \u001b[0mscs\u001b[0m\u001b[1;33m(\u001b[0m\u001b[1;34m\"smp.mp4\"\u001b[0m\u001b[1;33m)\u001b[0m\u001b[1;33m\u001b[0m\u001b[1;33m\u001b[0m\u001b[0m\n\u001b[0m",
      "\u001b[1;32m<ipython-input-1-6e04af73f26c>\u001b[0m in \u001b[0;36mscs\u001b[1;34m(video_name)\u001b[0m\n\u001b[0;32m      1\u001b[0m \u001b[1;32mdef\u001b[0m \u001b[0mscs\u001b[0m\u001b[1;33m(\u001b[0m\u001b[0mvideo_name\u001b[0m\u001b[1;33m)\u001b[0m\u001b[1;33m:\u001b[0m  \u001b[1;31m# screenshot (영상 이미지 저장)\u001b[0m\u001b[1;33m\u001b[0m\u001b[1;33m\u001b[0m\u001b[0m\n\u001b[0;32m      2\u001b[0m     \u001b[0minput_video\u001b[0m \u001b[1;33m=\u001b[0m \u001b[0mvideo_name\u001b[0m\u001b[1;33m\u001b[0m\u001b[1;33m\u001b[0m\u001b[0m\n\u001b[1;32m----> 3\u001b[1;33m     \u001b[0mcap\u001b[0m \u001b[1;33m=\u001b[0m \u001b[0mcv2\u001b[0m\u001b[1;33m.\u001b[0m\u001b[0mVideoCapture\u001b[0m\u001b[1;33m(\u001b[0m\u001b[0minput_video\u001b[0m\u001b[1;33m)\u001b[0m  \u001b[1;31m# 동영상 캡처 객체 생성\u001b[0m\u001b[1;33m\u001b[0m\u001b[1;33m\u001b[0m\u001b[0m\n\u001b[0m\u001b[0;32m      4\u001b[0m     \u001b[0mfps\u001b[0m \u001b[1;33m=\u001b[0m \u001b[0mcap\u001b[0m\u001b[1;33m.\u001b[0m\u001b[0mget\u001b[0m\u001b[1;33m(\u001b[0m\u001b[0mcv2\u001b[0m\u001b[1;33m.\u001b[0m\u001b[0mCAP_PROP_FPS\u001b[0m\u001b[1;33m)\u001b[0m  \u001b[1;31m# 초당 프레임\u001b[0m\u001b[1;33m\u001b[0m\u001b[1;33m\u001b[0m\u001b[0m\n\u001b[0;32m      5\u001b[0m     \u001b[0mfwt\u001b[0m \u001b[1;33m=\u001b[0m \u001b[0mround\u001b[0m\u001b[1;33m(\u001b[0m\u001b[1;33m(\u001b[0m\u001b[1;36m1\u001b[0m \u001b[1;33m/\u001b[0m \u001b[0mfps\u001b[0m\u001b[1;33m)\u001b[0m \u001b[1;33m*\u001b[0m \u001b[1;36m1000\u001b[0m\u001b[1;33m)\u001b[0m  \u001b[1;31m# 프레임당 재생시간 설정 & 입력단위가 ms이므로 *1000 & 정수입력으로 round처리\u001b[0m\u001b[1;33m\u001b[0m\u001b[1;33m\u001b[0m\u001b[0m\n",
      "\u001b[1;31mNameError\u001b[0m: name 'cv2' is not defined"
     ]
    }
   ],
   "source": [
    "scs(\"smp.mp4\")"
   ]
  },
  {
   "cell_type": "code",
   "execution_count": 6,
   "metadata": {},
   "outputs": [],
   "source": [
    "def syn(origin_image, rmbg_image, back_image):  # Synthesis : 추출한 프레임 이미지 합성\n",
    "    image_data = cv2.imread(origin_image)\n",
    "    height, width, channel = image_data.shape\n",
    "    print('width:  ', width)\n",
    "    print('height: ', height)\n",
    "    print('channel:', channel)\n",
    "    \n",
    "    a = image_data[100,200] \n",
    "    print(a)\n",
    "    print(image_data)"
   ]
  },
  {
   "cell_type": "code",
   "execution_count": 7,
   "metadata": {},
   "outputs": [
    {
     "name": "stdout",
     "output_type": "stream",
     "text": [
      "width:   720\n",
      "height:  480\n",
      "channel: 3\n",
      "[47 58 88]\n",
      "[[[  9  36  62]\n",
      "  [ 26  56  81]\n",
      "  [ 33  64  87]\n",
      "  ...\n",
      "  [ 44  59  78]\n",
      "  [ 42  57  76]\n",
      "  [ 22  37  56]]\n",
      "\n",
      " [[ 24  53  80]\n",
      "  [ 45  75 102]\n",
      "  [ 52  86 110]\n",
      "  ...\n",
      "  [ 64  79  98]\n",
      "  [ 62  77  96]\n",
      "  [ 40  55  74]]\n",
      "\n",
      " [[ 29  63  93]\n",
      "  [ 54  88 118]\n",
      "  [ 62  98 128]\n",
      "  ...\n",
      "  [ 76  90 112]\n",
      "  [ 71  85 107]\n",
      "  [ 46  60  82]]\n",
      "\n",
      " ...\n",
      "\n",
      " [[ 16  27  41]\n",
      "  [ 28  44  57]\n",
      "  [ 29  48  63]\n",
      "  ...\n",
      "  [ 51  59  72]\n",
      "  [ 43  51  64]\n",
      "  [ 29  37  50]]\n",
      "\n",
      " [[ 20  29  42]\n",
      "  [ 31  44  58]\n",
      "  [ 30  46  62]\n",
      "  ...\n",
      "  [ 44  51  66]\n",
      "  [ 38  46  59]\n",
      "  [ 26  34  47]]\n",
      "\n",
      " [[ 13  22  35]\n",
      "  [ 24  35  49]\n",
      "  [ 20  36  52]\n",
      "  ...\n",
      "  [ 28  35  50]\n",
      "  [ 24  32  45]\n",
      "  [ 14  22  35]]]\n"
     ]
    }
   ],
   "source": [
    "syn('o.jpg', 'r.jpg', 'b.jpg')"
   ]
  },
  {
   "cell_type": "code",
   "execution_count": 17,
   "metadata": {},
   "outputs": [],
   "source": [
    "origin_data = cv2.imread('o.jpg')"
   ]
  },
  {
   "cell_type": "code",
   "execution_count": 18,
   "metadata": {},
   "outputs": [
    {
     "data": {
      "text/plain": [
       "array([ 39,  83, 124], dtype=uint8)"
      ]
     },
     "execution_count": 18,
     "metadata": {},
     "output_type": "execute_result"
    }
   ],
   "source": [
    "origin_data[10, 10]"
   ]
  },
  {
   "cell_type": "code",
   "execution_count": 19,
   "metadata": {},
   "outputs": [],
   "source": [
    "origin_pixel = origin_data[10, 10]"
   ]
  },
  {
   "cell_type": "code",
   "execution_count": 20,
   "metadata": {},
   "outputs": [
    {
     "name": "stdout",
     "output_type": "stream",
     "text": [
      "39 83 124\n"
     ]
    }
   ],
   "source": [
    "o_blu, o_grn, o_red = origin_pixel[0], origin_pixel[1], origin_pixel[2]\n",
    "print(o_blu, o_grn, o_red)"
   ]
  },
  {
   "cell_type": "code",
   "execution_count": 27,
   "metadata": {},
   "outputs": [],
   "source": [
    "proc_data = np.full((10, 10, 3), (0, 255, 0), dtype=np.uint8)"
   ]
  },
  {
   "cell_type": "code",
   "execution_count": 29,
   "metadata": {},
   "outputs": [
    {
     "data": {
      "text/plain": [
       "array([  0, 255,   0], dtype=uint8)"
      ]
     },
     "execution_count": 29,
     "metadata": {},
     "output_type": "execute_result"
    }
   ],
   "source": [
    "proc_data[9, 9]"
   ]
  },
  {
   "cell_type": "code",
   "execution_count": 40,
   "metadata": {},
   "outputs": [],
   "source": [
    "def shc(input_image):\n",
    "    input_data = np.full((100, 200, 3), (0, 255, 0), dtype=np.uint8)\n",
    "    input_frame = cv2.imread(input_image)\n",
    "    while True:\n",
    "        cv2.imshow('input_image', input_frame)\n",
    "        cv2.imshow('input_data', input_data)\n",
    "        if cv2.waitKey(1) == ord('q'):\n",
    "            break\n",
    "    cv2.destroyAllWindows()  # 창종료\n",
    "    return cv2.imread(input_frame)"
   ]
  },
  {
   "cell_type": "code",
   "execution_count": 41,
   "metadata": {},
   "outputs": [
    {
     "ename": "TypeError",
     "evalue": "Can't convert object of type 'numpy.ndarray' to 'str' for 'filename'",
     "output_type": "error",
     "traceback": [
      "\u001b[1;31m---------------------------------------------------------------------------\u001b[0m",
      "\u001b[1;31mTypeError\u001b[0m                                 Traceback (most recent call last)",
      "\u001b[1;32m<ipython-input-41-35228569637c>\u001b[0m in \u001b[0;36m<module>\u001b[1;34m\u001b[0m\n\u001b[1;32m----> 1\u001b[1;33m \u001b[0mshc\u001b[0m\u001b[1;33m(\u001b[0m\u001b[1;34m'o.jpg'\u001b[0m\u001b[1;33m)\u001b[0m\u001b[1;33m\u001b[0m\u001b[1;33m\u001b[0m\u001b[0m\n\u001b[0m",
      "\u001b[1;32m<ipython-input-40-47fb3e27baee>\u001b[0m in \u001b[0;36mshc\u001b[1;34m(input_image)\u001b[0m\n\u001b[0;32m      8\u001b[0m             \u001b[1;32mbreak\u001b[0m\u001b[1;33m\u001b[0m\u001b[1;33m\u001b[0m\u001b[0m\n\u001b[0;32m      9\u001b[0m     \u001b[0mcv2\u001b[0m\u001b[1;33m.\u001b[0m\u001b[0mdestroyAllWindows\u001b[0m\u001b[1;33m(\u001b[0m\u001b[1;33m)\u001b[0m  \u001b[1;31m# 창종료\u001b[0m\u001b[1;33m\u001b[0m\u001b[1;33m\u001b[0m\u001b[0m\n\u001b[1;32m---> 10\u001b[1;33m     \u001b[1;32mreturn\u001b[0m \u001b[0mcv2\u001b[0m\u001b[1;33m.\u001b[0m\u001b[0mimread\u001b[0m\u001b[1;33m(\u001b[0m\u001b[0minput_frame\u001b[0m\u001b[1;33m)\u001b[0m\u001b[1;33m\u001b[0m\u001b[1;33m\u001b[0m\u001b[0m\n\u001b[0m",
      "\u001b[1;31mTypeError\u001b[0m: Can't convert object of type 'numpy.ndarray' to 'str' for 'filename'"
     ]
    }
   ],
   "source": [
    "shc('o.jpg')"
   ]
  },
  {
   "cell_type": "code",
   "execution_count": null,
   "metadata": {},
   "outputs": [],
   "source": []
  }
 ],
 "metadata": {
  "kernelspec": {
   "display_name": "Python 3",
   "language": "python",
   "name": "python3"
  },
  "language_info": {
   "codemirror_mode": {
    "name": "ipython",
    "version": 3
   },
   "file_extension": ".py",
   "mimetype": "text/x-python",
   "name": "python",
   "nbconvert_exporter": "python",
   "pygments_lexer": "ipython3",
   "version": "3.8.5"
  }
 },
 "nbformat": 4,
 "nbformat_minor": 5
}
