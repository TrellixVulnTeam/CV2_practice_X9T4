{
 "cells": [
  {
   "cell_type": "code",
   "execution_count": 33,
   "metadata": {},
   "outputs": [],
   "source": [
    "import cv2\n",
    "import os\n",
    "import numpy as np\n",
    "import operator"
   ]
  },
  {
   "cell_type": "code",
   "execution_count": 34,
   "metadata": {},
   "outputs": [],
   "source": [
    "def cpd():  # 현재 디렉토리 확인\n",
    "    return os.getcwd()  # 현재 파이썬프로젝트 폴더 위치 표시"
   ]
  },
  {
   "cell_type": "code",
   "execution_count": 35,
   "metadata": {},
   "outputs": [
    {
     "data": {
      "text/plain": [
       "'C:\\\\Users\\\\Park\\\\PycharmProjects\\\\CV2_practice'"
      ]
     },
     "execution_count": 35,
     "metadata": {},
     "output_type": "execute_result"
    }
   ],
   "source": [
    "cpd()"
   ]
  },
  {
   "cell_type": "code",
   "execution_count": 36,
   "metadata": {},
   "outputs": [],
   "source": [
    "def pro(origin_data, rmbg_data, back_data):  # Processing : 추출한 프레임 이미지 합성 (frame == data != image file)\n",
    "\n",
    "    height, width, channel = origin_data.shape  # 높이, 넓이, 색채널 추출\n",
    "    proc_data = np.full((height, width, 3), (0, 255, 0), dtype=np.uint8)  # 처리용 이미지 데이터 선언\n",
    "    hi_cnt, wd_cnt = 0, 0  # 높이, 넓이 카운터용 변수 선언\n",
    "\n",
    "    while hi_cnt < height:  # 높이 반복\n",
    "        while wd_cnt < width:  # 넓이 반복\n",
    "            origin_pixel = origin_data[hi_cnt, wd_cnt]  # 픽셀 BGR 리스트 추출\n",
    "            o_blu, o_grn, o_red = origin_pixel[0], origin_pixel[1], origin_pixel[2]  # BGR 값을 변수로 치환\n",
    "\n",
    "            r_blk = rmbg_data[hi_cnt, wd_cnt]  # rmbg는 흑백값만 추출\n",
    "\n",
    "            back_pixel = back_data[hi_cnt, wd_cnt]\n",
    "            b_blu, b_grn, b_red = back_pixel[0], back_pixel[1], back_pixel[2]\n",
    "\n",
    "            if (r_blk != 0) or (str(origin_pixel) != str(back_pixel)) :  # r_blk가 검은색(0)이 아닐경우 & 빠른 연산을 위해 oprator.is_not\n",
    "                proc_data[hi_cnt, wd_cnt] = origin_data[hi_cnt, wd_cnt]\n",
    "                proc_data[hi_cnt+1, wd_cnt] = origin_data[hi_cnt+1, wd_cnt]\n",
    "                proc_data[hi_cnt, wd_cnt+1] = origin_data[hi_cnt, wd_cnt+1]\n",
    "                proc_data[hi_cnt+1, wd_cnt+1] = origin_data[hi_cnt+1, wd_cnt+1]\n",
    "                \n",
    "            \n",
    "            wd_cnt = wd_cnt + 2\n",
    "\n",
    "        hi_cnt = hi_cnt + 2\n",
    "        wd_cnt = 0\n",
    "\n",
    "    return proc_data"
   ]
  },
  {
   "cell_type": "code",
   "execution_count": 37,
   "metadata": {},
   "outputs": [],
   "source": [
    "def vdf(video_name):  # video processing function (영상 처리 함수)\n",
    "    input_video = video_name\n",
    "    cap = cv2.VideoCapture(input_video)  # 동영상 캡처 객체 생성\n",
    "    fps = cap.get(cv2.CAP_PROP_FPS)  # 초당 프레임\n",
    "    fwt = round((1 / fps) * 1000)  # 프레임당 재생시간 설정 & 입력단위가 ms 이므로 *1000 & 정수입력으로 round 처리\n",
    "\n",
    "    cbs = cv2.createBackgroundSubtractorKNN()  # 배경제거 객체생성함수 선언\n",
    "\n",
    "    if cap.isOpened():  # 캡쳐객체 초기화 확인 (동영상을 불러올 수 있는지 확인하는듯)\n",
    "\n",
    "        while cap.isOpened():  # 초기화 되는동안 영상재생\n",
    "            ret, frame = cap.read()  # 프레임 추출가능(T/F), 추출한프레임\n",
    "\n",
    "            if ret:  # run = True (캡쳐 객체 호출가능) : 동영상 재생시작\n",
    "                origin_frame = cv2.resize(frame, (480, 320))  # 프레임이미지 크기 변환 480*320\n",
    "                rmbg_frame = cbs.apply(origin_frame)  # 배경제거한 프레임 생성\n",
    "                back_frame = cbs.getBackgroundImage()  # 배경 프레임 생성 (입력값 X : 자동으로 현재 출력중인 영상을 처리함)\n",
    "                #proc_frame = pro(origin_frame, rmbg_frame, back_frame)\n",
    "                canny_frame = cv2.Canny(origin_frame, 100, 255)\n",
    "\n",
    "                cv2.imshow(input_video, origin_frame)  # 입력비디오의 프레임 이미지를 보여줌\n",
    "                cv2.imshow('rmbg_' + input_video, rmbg_frame)  # 배경제거된 프레임 이미지를 보여줌\n",
    "                cv2.imshow('back_' + input_video, back_frame)  # 배경 프레임 이미지를 보여줌\n",
    "                #cv2.imshow('proc_' + input_video, proc_frame)\n",
    "                cv2.imshow('canny_' + input_video, canny_frame)\n",
    "\n",
    "                if cv2.waitKey(fwt) == ord('q'):  # fps 만큼 재생하다가 'q' 입력되면 동작 종료\n",
    "                    cap.release()\n",
    "                    cv2.destroyAllWindows()\n",
    "                    print(\"Stop video\")\n",
    "                    break\n",
    "\n",
    "            else:  # run = False (캡쳐 객체 호출불가능) : 동영상 자동 종료\n",
    "                cap.release()  # 캡쳐 자원 반납\n",
    "                cv2.destroyAllWindows()  # 창종료\n",
    "                print(\"End of playback\")\n",
    "\n",
    "    else:\n",
    "        print(\"Can't open\")"
   ]
  },
  {
   "cell_type": "code",
   "execution_count": 38,
   "metadata": {},
   "outputs": [
    {
     "name": "stdout",
     "output_type": "stream",
     "text": [
      "Stop video\n"
     ]
    }
   ],
   "source": [
    "vdf('smp.mp4')"
   ]
  },
  {
   "cell_type": "code",
   "execution_count": 103,
   "metadata": {},
   "outputs": [
    {
     "data": {
      "text/plain": [
       "False"
      ]
     },
     "execution_count": 103,
     "metadata": {},
     "output_type": "execute_result"
    }
   ],
   "source": [
    "r_blk = 0\n",
    "operator.is_not(r_blk, 0)"
   ]
  },
  {
   "cell_type": "code",
   "execution_count": 100,
   "metadata": {},
   "outputs": [
    {
     "data": {
      "text/plain": [
       "3"
      ]
     },
     "execution_count": 100,
     "metadata": {},
     "output_type": "execute_result"
    }
   ],
   "source": [
    "a, b = 1, 2\n",
    "a = operator.add(a, b)\n",
    "a"
   ]
  },
  {
   "cell_type": "code",
   "execution_count": 102,
   "metadata": {},
   "outputs": [
    {
     "data": {
      "text/plain": [
       "False"
      ]
     },
     "execution_count": 102,
     "metadata": {},
     "output_type": "execute_result"
    }
   ],
   "source": [
    "r_blk = 0\n",
    "r_blk != 0"
   ]
  },
  {
   "cell_type": "code",
   "execution_count": null,
   "metadata": {},
   "outputs": [],
   "source": []
  }
 ],
 "metadata": {
  "kernelspec": {
   "display_name": "Python 3",
   "language": "python",
   "name": "python3"
  },
  "language_info": {
   "codemirror_mode": {
    "name": "ipython",
    "version": 3
   },
   "file_extension": ".py",
   "mimetype": "text/x-python",
   "name": "python",
   "nbconvert_exporter": "python",
   "pygments_lexer": "ipython3",
   "version": "3.8.3"
  }
 },
 "nbformat": 4,
 "nbformat_minor": 4
}
