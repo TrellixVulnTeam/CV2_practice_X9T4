{
 "cells": [
  {
   "cell_type": "code",
   "execution_count": 1,
   "id": "67ea3193",
   "metadata": {},
   "outputs": [],
   "source": [
    "import numpy as np\n",
    "import cv2"
   ]
  },
  {
   "cell_type": "code",
   "execution_count": 2,
   "id": "f5ef64eb",
   "metadata": {},
   "outputs": [],
   "source": [
    "# Parameters\n",
    "blur = 21\n",
    "canny_low = 15\n",
    "canny_high = 150\n",
    "min_area = 0.0005\n",
    "max_area = 0.95\n",
    "dilate_iter = 10\n",
    "erode_iter = 10\n",
    "mask_color = (0.0,0.0,0.0)"
   ]
  },
  {
   "cell_type": "code",
   "execution_count": null,
   "id": "fff4e4b7",
   "metadata": {},
   "outputs": [],
   "source": [
    "video = cv2.VideoCapture('smp.mp4')"
   ]
  },
  {
   "cell_type": "code",
   "execution_count": null,
   "id": "f9dfe55a",
   "metadata": {},
   "outputs": [],
   "source": [
    "while True:\n",
    "    ret, frame = video.read()"
   ]
  },
  {
   "cell_type": "code",
   "execution_count": null,
   "id": "74dda076",
   "metadata": {},
   "outputs": [],
   "source": []
  }
 ],
 "metadata": {
  "kernelspec": {
   "display_name": "Python 3",
   "language": "python",
   "name": "python3"
  },
  "language_info": {
   "codemirror_mode": {
    "name": "ipython",
    "version": 3
   },
   "file_extension": ".py",
   "mimetype": "text/x-python",
   "name": "python",
   "nbconvert_exporter": "python",
   "pygments_lexer": "ipython3",
   "version": "3.8.3"
  }
 },
 "nbformat": 4,
 "nbformat_minor": 5
}
