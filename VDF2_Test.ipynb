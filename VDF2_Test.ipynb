{
 "cells": [
  {
   "cell_type": "code",
   "execution_count": 23,
   "id": "d34e8c40",
   "metadata": {},
   "outputs": [],
   "source": [
    "import cv2\n",
    "import os\n",
    "import numpy as np\n",
    "import time"
   ]
  },
  {
   "cell_type": "code",
   "execution_count": 24,
   "id": "be780cdd",
   "metadata": {},
   "outputs": [],
   "source": [
    "def cpd():  # 현재 디렉토리 확인\n",
    "    return os.getcwd()  # 현재 파이썬프로젝트 폴더 위치 표시"
   ]
  },
  {
   "cell_type": "code",
   "execution_count": 25,
   "id": "ab8376dd",
   "metadata": {
    "scrolled": true
   },
   "outputs": [
    {
     "data": {
      "text/plain": [
       "'C:\\\\Users\\\\Park\\\\PycharmProjects\\\\CV2_practice'"
      ]
     },
     "execution_count": 25,
     "metadata": {},
     "output_type": "execute_result"
    }
   ],
   "source": [
    "cpd()"
   ]
  },
  {
   "cell_type": "code",
   "execution_count": 26,
   "id": "6d131e9d",
   "metadata": {},
   "outputs": [],
   "source": [
    "def pro(origin_data, rmbg_data, back_data, bgnd_data):  # Processing : 추출한 프레임 이미지 합성 (frame == data != image file)\n",
    "\n",
    "    height, width, channel = origin_data.shape  # 높이, 넓이, 색채널 추출\n",
    "    proc_data = bgnd_data  # 처리용 이미지 데이터 선언\n",
    "    hi_cnt, wd_cnt = 0, 0  # 높이, 넓이 카운터용 변수 선언\n",
    "\n",
    "    while hi_cnt < height:  # 높이 반복\n",
    "        while wd_cnt < width:  # 넓이 반복\n",
    "            origin_pixel = origin_data[hi_cnt, wd_cnt]  # 픽셀 BGR 리스트 추출\n",
    "            o_blu, o_grn, o_red = origin_pixel[0], origin_pixel[1], origin_pixel[2]  # BGR 값을 변수로 치환\n",
    "\n",
    "            r_blk = rmbg_data[hi_cnt, wd_cnt]  # rmbg는 흑백값만 추출\n",
    "\n",
    "            back_pixel = back_data[hi_cnt, wd_cnt]\n",
    "            b_blu, b_grn, b_red = back_pixel[0], back_pixel[1], back_pixel[2]\n",
    "\n",
    "            if (r_blk != 0):  #\n",
    "                proc_data[hi_cnt, wd_cnt] = origin_data[hi_cnt, wd_cnt]\n",
    "                proc_data[hi_cnt+1, wd_cnt] = origin_data[hi_cnt+1, wd_cnt]\n",
    "                proc_data[hi_cnt, wd_cnt+1] = origin_data[hi_cnt, wd_cnt+1]\n",
    "                proc_data[hi_cnt+1, wd_cnt+1] = origin_data[hi_cnt+1, wd_cnt+1]\n",
    "                \n",
    "            \n",
    "            wd_cnt = wd_cnt + 2\n",
    "\n",
    "        hi_cnt = hi_cnt + 2\n",
    "        wd_cnt = 0\n",
    "\n",
    "    return proc_data"
   ]
  },
  {
   "cell_type": "code",
   "execution_count": 33,
   "id": "83105a6e",
   "metadata": {},
   "outputs": [],
   "source": [
    "def vdf(video_name, bgnd_name):  # video processing function (영상 처리 함수)\n",
    "    start_time = time.time()\n",
    "    \n",
    "    input_video = video_name\n",
    "    bgnd_video = bgnd_name\n",
    "    \n",
    "    cap_input = cv2.VideoCapture(input_video)  # 동영상 캡처 객체 생성\n",
    "    cap_bgnd = cv2.VideoCapture(bgnd_video)  # 동영상 캡처 객체 생성\n",
    "    \n",
    "    fps = cap_input.get(cv2.CAP_PROP_FPS)  # 초당 프레임\n",
    "    fwt = round((1 / fps) * 1000)  # 프레임당 재생시간 설정 & 입력단위가 ms 이므로 *1000 & 정수입력으로 round 처리\n",
    "\n",
    "    cbs = cv2.createBackgroundSubtractorKNN()  # 배경제거 객체생성함수 선언\n",
    "\n",
    "    if cap_input.isOpened() and cap_bgnd.isOpened():  # 캡쳐객체 초기화 확인 (동영상을 불러올 수 있는지 확인하는듯)\n",
    "\n",
    "        while cap_input.isOpened():  # 초기화 되는동안 영상재생\n",
    "            ret_input, frame_input = cap_input.read()  # 프레임 추출가능(T/F), 추출한프레임\n",
    "            ret_bgnd, frame_bgnd = cap_bgnd.read() \n",
    "\n",
    "            if ret_input and ret_bgnd:  # run = True (캡쳐 객체 호출가능) : 동영상 재생시작\n",
    "                orgn_frame = cv2.resize(frame_input, (480, 320))  # 프레임이미지 크기 변환 480*320\n",
    "                bgnd_frame = cv2.resize(frame_bgnd, (480, 320))\n",
    "                \n",
    "                rmbg_frame = cbs.apply(orgn_frame)  # 배경제거한 프레임 생성\n",
    "                \n",
    "                #proc_frame = pro(orgn_frame, rmbg_frame, back_frame, bgnd_frame)\n",
    "\n",
    "                cv2.imshow(input_video, orgn_frame)  # 입력비디오의 프레임 이미지를 보여줌\n",
    "                #cv2.imshow('proc_' + input_video, proc_frame)\n",
    "\n",
    "                if cv2.waitKey(fwt) == ord('q'):  # fps 만큼 재생하다가 'q' 입력되면 동작 종료\n",
    "                    cap_input.release()\n",
    "                    cap_bgnd.release()\n",
    "                    cv2.destroyAllWindows()\n",
    "                    print(\"Stop video\")\n",
    "                    break\n",
    "\n",
    "            else:  # run = False (캡쳐 객체 호출불가능) : 동영상 자동 종료\n",
    "                cap_input.release()\n",
    "                cap_bgnd.release()\n",
    "                cv2.destroyAllWindows()  # 창종료\n",
    "                print(\"End of playback\")\n",
    "                print(\"Time : \", time.time() - start_time)\n",
    "\n",
    "    else:\n",
    "        print(\"Can't open\")"
   ]
  },
  {
   "cell_type": "code",
   "execution_count": 34,
   "id": "2ce1479b",
   "metadata": {},
   "outputs": [
    {
     "name": "stdout",
     "output_type": "stream",
     "text": [
      "End of playback\n",
      "Time :  33.75547170639038\n"
     ]
    }
   ],
   "source": [
    "vdf('smp.mp4', 'bgv.mp4')"
   ]
  },
  {
   "cell_type": "code",
   "execution_count": null,
   "id": "ae03e759",
   "metadata": {},
   "outputs": [],
   "source": []
  }
 ],
 "metadata": {
  "kernelspec": {
   "display_name": "Python 3",
   "language": "python",
   "name": "python3"
  },
  "language_info": {
   "codemirror_mode": {
    "name": "ipython",
    "version": 3
   },
   "file_extension": ".py",
   "mimetype": "text/x-python",
   "name": "python",
   "nbconvert_exporter": "python",
   "pygments_lexer": "ipython3",
   "version": "3.8.3"
  }
 },
 "nbformat": 4,
 "nbformat_minor": 5
}
