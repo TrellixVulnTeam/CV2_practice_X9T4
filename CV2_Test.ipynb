{
 "cells": [
  {
   "cell_type": "code",
   "execution_count": 1,
   "id": "f51c5956",
   "metadata": {},
   "outputs": [],
   "source": [
    "import cv2\n",
    "import os"
   ]
  },
  {
   "cell_type": "code",
   "execution_count": 2,
   "id": "3581f2d2",
   "metadata": {},
   "outputs": [],
   "source": [
    "def cpd():  # 현재 디렉토리 확인\n",
    "    return os.getcwd()  # 현재 파이썬프로젝트 폴더 위치 표시"
   ]
  },
  {
   "cell_type": "code",
   "execution_count": 3,
   "id": "c8743cb3",
   "metadata": {},
   "outputs": [
    {
     "data": {
      "text/plain": [
       "'C:\\\\Users\\\\Park\\\\PycharmProjects\\\\CV2_practice'"
      ]
     },
     "execution_count": 3,
     "metadata": {},
     "output_type": "execute_result"
    }
   ],
   "source": [
    "cpd()"
   ]
  },
  {
   "cell_type": "code",
   "execution_count": 15,
   "id": "38e4feba",
   "metadata": {},
   "outputs": [],
   "source": [
    "def run(video_name):  # CV2로 동영상 재생\n",
    "    input_video = video_name\n",
    "    cap = cv2.VideoCapture(input_video)  # 동영상 캡처 객체 생성\n",
    "    fps = cap.get(cv2.CAP_PROP_FPS)  # 초당 프레임\n",
    "    fwt = round((1/fps)*1000)  # 프레임당 재생시간 설정 & 정수입력으로 round처리\n",
    "    \n",
    "    if cap.isOpened():  # 캡쳐객체 초기화 확인 (동영상을 불러올 수 있는지 확인하는듯)\n",
    "\n",
    "        while cap.isOpened():  # 초기화 되는동안 영상재생\n",
    "            ret, frame = cap.read()  # Run-able, Frame\n",
    "\n",
    "            if ret:  # run = True (캡쳐 객체 호출가능) : 동영상 재생시작\n",
    "                cv2.imshow(input_video, frame)  # Show captured frame of input_video\n",
    "                cv2.waitKey(fwt)  # 재생시간 입력 -> waitkey만 쓰면 단순대기 동작\n",
    "\n",
    "            else:  # run = False (캡쳐 객체 호출불가능) : 동영상 자동 종료\n",
    "                cap.release()  # 캡쳐 자원 반납\n",
    "                cv2.destroyAllWindows()  # 창종료\n",
    "                print(\"End of playback\")\n",
    "\n",
    "    else:\n",
    "        print(\"can't open\")"
   ]
  },
  {
   "cell_type": "code",
   "execution_count": 16,
   "id": "a375e13f",
   "metadata": {
    "scrolled": true
   },
   "outputs": [
    {
     "name": "stdout",
     "output_type": "stream",
     "text": [
      "End of playback\n"
     ]
    }
   ],
   "source": [
    "run(\"smp.mp4\")"
   ]
  },
  {
   "cell_type": "code",
   "execution_count": 6,
   "id": "aa4eb514",
   "metadata": {},
   "outputs": [],
   "source": [
    "def wtk(image_name):  # waitkey 함수 동작 확인\n",
    "    input_image = cv2.imread(image_name, cv2.IMREAD_UNCHANGED)\n",
    "    cv2.imshow('Cyber Punk 2077', input_image)  # 이미지를 화면에 보여준다.\n",
    "    key = cv2.waitKey(0)  # 키입력 무한대기(0이므로)하면서 입력한 키를 유니코드 값으로 리턴함.\n",
    "    key_char = chr(key)  # 유니코드 값을 Char로 변환\n",
    "    print('key : ', key_char)  # 입력한 키의 유니코드 값을 보여줌\n",
    "    cv2.destroyAllWindows()"
   ]
  },
  {
   "cell_type": "code",
   "execution_count": 7,
   "id": "100d2a06",
   "metadata": {},
   "outputs": [
    {
     "name": "stdout",
     "output_type": "stream",
     "text": [
      "key :  d\n"
     ]
    }
   ],
   "source": [
    "wtk(\"img.png\")"
   ]
  },
  {
   "cell_type": "code",
   "execution_count": 20,
   "id": "4ed6ae17",
   "metadata": {},
   "outputs": [],
   "source": [
    "def fip(video_name):  # fore image processing (움직이는 영상만 따기 - 배경제거)\n",
    "    input_video = video_name\n",
    "    cap = cv2.VideoCapture(input_video)  # 동영상 캡처 객체 생성\n",
    "    fps = cap.get(cv2.CAP_PROP_FPS)  # 초당 프레임\n",
    "    fwt = round((1 / fps) * 1000)  # 프레임당 재생시간 설정 & 정수입력으로 round처리\n",
    "\n",
    "    rmbg = cv2.createBackgroundSubtractorMOG2()  # 배경제거 객체생성\n",
    "\n",
    "    if cap.isOpened():  # 캡쳐객체 초기화 확인 (동영상을 불러올 수 있는지 확인하는듯)\n",
    "\n",
    "        while cap.isOpened():  # 초기화 되는동안 영상재생\n",
    "            ret, frame = cap.read()  # Run-able, Frame\n",
    "\n",
    "            if ret:  # run = True (캡쳐 객체 호출가능) : 동영상 재생시작\n",
    "                rmbg_frame = rmbg.apply(frame)  # 배경제거한 프레임 생성\n",
    "                cv2.imshow(input_video, frame)  # 입력비디오의 프레임 이미지를 보여줌\n",
    "                cv2.imshow(input_video + \"_rmbg\", rmbg_frame)  # 배경제거된 프레임 이미지를 보여줌\n",
    "\n",
    "                if cv2.waitKey(fwt) == ord('q'):  # fps만큼 재생하다가 q입력되면 동작 종료\n",
    "                    cap.release()\n",
    "                    cv2.destroyAllWindows()\n",
    "                    print(\"Stop video\")\n",
    "                    break\n",
    "\n",
    "            else:  # run = False (캡쳐 객체 호출불가능) : 동영상 자동 종료\n",
    "                cap.release()  # 캡쳐 자원 반납\n",
    "                cv2.destroyAllWindows()  # 창종료\n",
    "                print(\"End of playback\")"
   ]
  },
  {
   "cell_type": "code",
   "execution_count": 21,
   "id": "cc7bc932",
   "metadata": {},
   "outputs": [
    {
     "name": "stdout",
     "output_type": "stream",
     "text": [
      "End of playback\n"
     ]
    }
   ],
   "source": [
    "fip(\"smp.mp4\")"
   ]
  },
  {
   "cell_type": "code",
   "execution_count": null,
   "id": "38ea0c01",
   "metadata": {},
   "outputs": [],
   "source": []
  }
 ],
 "metadata": {
  "kernelspec": {
   "display_name": "Python 3",
   "language": "python",
   "name": "python3"
  },
  "language_info": {
   "codemirror_mode": {
    "name": "ipython",
    "version": 3
   },
   "file_extension": ".py",
   "mimetype": "text/x-python",
   "name": "python",
   "nbconvert_exporter": "python",
   "pygments_lexer": "ipython3",
   "version": "3.8.3"
  }
 },
 "nbformat": 4,
 "nbformat_minor": 5
}
