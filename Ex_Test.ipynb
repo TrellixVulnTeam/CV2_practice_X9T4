{
 "cells": [
  {
   "cell_type": "code",
   "execution_count": 13,
   "id": "f3efc95e",
   "metadata": {},
   "outputs": [],
   "source": [
    "import numpy as np\n",
    "import cv2"
   ]
  },
  {
   "cell_type": "code",
   "execution_count": 27,
   "id": "aa5bdb9e",
   "metadata": {},
   "outputs": [],
   "source": [
    "def remove_background(img, threshold):\n",
    "    \n",
    "    gray = cv2.cvtColor(img, cv2.COLOR_BGR2GRAY)\n",
    "    _, threshed = cv2.threshold(gray, threshold, 255, cv2.THRESH_BINARY_INV)\n",
    "\n",
    "    kernel = cv2.getStructuringElement(cv2.MORPH_ELLIPSE, (11, 11))\n",
    "    morphed = cv2.morphologyEx(threshed, cv2.MORPH_CLOSE, kernel)\n",
    "\n",
    "    cnts = cv2.findContours(morphed, \n",
    "                            cv2.RETR_EXTERNAL,\n",
    "                            cv2.CHAIN_APPROX_SIMPLE)[0]\n",
    "\n",
    "    cnt = sorted(cnts, key=cv2.contourArea)[-1]\n",
    "\n",
    "    mask = cv2.drawContours(threshed, cnt, 0, (0, 255, 0), 0)\n",
    "    masked_data = cv2.bitwise_and(img, img, mask=mask)\n",
    "\n",
    "    x, y, w, h = cv2.boundingRect(cnt)\n",
    "    dst = masked_data[y: y + h, x: x + w]\n",
    "\n",
    "    dst_gray = cv2.cvtColor(dst, cv2.COLOR_BGR2GRAY)\n",
    "    _, alpha = cv2.threshold(dst_gray, 0, 255, cv2.THRESH_BINARY)\n",
    "    b, g, r = cv2.split(dst)\n",
    "\n",
    "    rgba = [r, g, b, alpha]\n",
    "    dst = cv2.merge(rgba, 4)\n",
    "\n",
    "    return dst"
   ]
  },
  {
   "cell_type": "code",
   "execution_count": 32,
   "id": "46c9d8d5",
   "metadata": {},
   "outputs": [],
   "source": [
    "def vdf(video_name):  # video processing function (영상 처리 함수)\n",
    "    input_video = video_name\n",
    "    cap = cv2.VideoCapture(input_video)  # 동영상 캡처 객체 생성\n",
    "    fps = cap.get(cv2.CAP_PROP_FPS)  # 초당 프레임\n",
    "    fwt = round((1 / fps) * 1000)  # 프레임당 재생시간 설정 & 입력단위가 ms 이므로 *1000 & 정수입력으로 round 처리\n",
    "\n",
    "    cbs = cv2.createBackgroundSubtractorKNN()  # 배경제거 객체생성함수 선언\n",
    "\n",
    "    if cap.isOpened():  # 캡쳐객체 초기화 확인 (동영상을 불러올 수 있는지 확인하는듯)\n",
    "\n",
    "        while cap.isOpened():  # 초기화 되는동안 영상재생\n",
    "            ret, frame = cap.read()  # 프레임 추출가능(T/F), 추출한프레임\n",
    "\n",
    "            if ret:  # run = True (캡쳐 객체 호출가능) : 동영상 재생시작\n",
    "                origin_frame = cv2.resize(frame, (480, 320))  # 프레임이미지 크기 변환 480*320\n",
    "                remove_frame = remove_background(origin_frame, 250)\n",
    "\n",
    "                cv2.imshow(input_video, origin_frame)  # 입력비디오의 프레임 이미지를 보여줌\n",
    "                cv2.imshow('remove_' + input_video, remove_frame)\n",
    "\n",
    "                if cv2.waitKey(fwt) == ord('q'):  # fps 만큼 재생하다가 'q' 입력되면 동작 종료\n",
    "                    cap.release()\n",
    "                    cv2.destroyAllWindows()\n",
    "                    print(\"Stop video\")\n",
    "                    break\n",
    "\n",
    "            else:  # run = False (캡쳐 객체 호출불가능) : 동영상 자동 종료\n",
    "                cap.release()  # 캡쳐 자원 반납\n",
    "                cv2.destroyAllWindows()  # 창종료\n",
    "                print(\"End of playback\")\n",
    "\n",
    "    else:\n",
    "        print(\"Can't open\")"
   ]
  },
  {
   "cell_type": "code",
   "execution_count": 33,
   "id": "110638a2",
   "metadata": {},
   "outputs": [
    {
     "name": "stdout",
     "output_type": "stream",
     "text": [
      "Stop video\n"
     ]
    }
   ],
   "source": [
    "vdf('smp.mp4')"
   ]
  },
  {
   "cell_type": "code",
   "execution_count": null,
   "id": "ed5487aa",
   "metadata": {},
   "outputs": [],
   "source": []
  }
 ],
 "metadata": {
  "kernelspec": {
   "display_name": "Python 3",
   "language": "python",
   "name": "python3"
  },
  "language_info": {
   "codemirror_mode": {
    "name": "ipython",
    "version": 3
   },
   "file_extension": ".py",
   "mimetype": "text/x-python",
   "name": "python",
   "nbconvert_exporter": "python",
   "pygments_lexer": "ipython3",
   "version": "3.8.3"
  }
 },
 "nbformat": 4,
 "nbformat_minor": 5
}
