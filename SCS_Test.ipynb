{
 "cells": [
  {
   "cell_type": "code",
   "execution_count": 4,
   "metadata": {},
   "outputs": [],
   "source": [
    "import cv2\n",
    "import os\n",
    "import numpy as np"
   ]
  },
  {
   "cell_type": "code",
   "execution_count": 7,
   "metadata": {},
   "outputs": [],
   "source": [
    "def scs(video_name):  # screenshot (영상 이미지 저장)\n",
    "    input_video = video_name\n",
    "    cap = cv2.VideoCapture(input_video)  # 동영상 캡처 객체 생성\n",
    "    fps = cap.get(cv2.CAP_PROP_FPS)  # 초당 프레임\n",
    "    fwt = round((1 / fps) * 1000)  # 프레임당 재생시간 설정 & 입력단위가 ms이므로 *1000 & 정수입력으로 round처리\n",
    "\n",
    "    cbs = cv2.createBackgroundSubtractorKNN()  # 배경제거 객체생성함수 선언\n",
    "\n",
    "    if cap.isOpened():  # 캡쳐객체 초기화 확인 (동영상을 불러올 수 있는지 확인하는듯)\n",
    "\n",
    "        while cap.isOpened():  # 초기화 되는동안 영상재생\n",
    "            ret, frame = cap.read()  # 프레임 추출가능(T/F), 추출한프레임\n",
    "\n",
    "            if ret:  # run = True (캡쳐 객체 호출가능) : 동영상 재생시작\n",
    "                origin_frame = cv2.resize(frame, (720, 480))  # 프레임이미지 크기 변환 720*480\n",
    "                rmbg_frame = cbs.apply(origin_frame)  # 배경제거한 프레임 생성\n",
    "                back_frame = cbs.getBackgroundImage()  # 배경 프레임 생성 (입력값X : 자동으로 현재 출력중인 영상을 처리함)\n",
    "\n",
    "                cv2.imshow(input_video, origin_frame)  # 입력비디오의 프레임 이미지를 보여줌\n",
    "                cv2.imshow('rmbg_' + input_video, rmbg_frame)  # 배경제거된 프레임 이미지를 보여줌\n",
    "                cv2.imshow('back_' + input_video, back_frame)  # 배경 프레임 이미지를 보여줌\n",
    "\n",
    "                if cv2.waitKey(1) == ord('s'):  # 's'입력시 함수 동작\n",
    "                    frame_count = cap.get(cv2.CAP_PROP_POS_FRAMES)  # 현재 프레임 번호지정\n",
    "                    cv2.imwrite('image/' + str(frame_count) + '_origin.jpg', origin_frame)  # 해당 프레임 이미지 저장\n",
    "                    cv2.imwrite('image/' + str(frame_count) + '_rmbg.jpg', rmbg_frame)\n",
    "                    cv2.imwrite('image/' + str(frame_count) + '_back.jpg', back_frame)\n",
    "                    \n",
    "                if cv2.waitKey(1) == ord('d'):  # 'd'입력시 함수 동작\n",
    "                    print(rmbg_frame[0, 0])  #  rmbg_frame의 경우 흑백이미지 이므로 출력 값이 하나임(0 or 127 or 255)\n",
    "                    print(origin_frame[85, 207])\n",
    "\n",
    "                if cv2.waitKey(fwt-2) == ord('q'):  # fps만큼 재생하다가 'q'입력되면 동작 종료\n",
    "                    cap.release()\n",
    "                    cv2.destroyAllWindows()\n",
    "                    print(\"Stop video\")\n",
    "                    break\n",
    "\n",
    "            else:  # run = False (캡쳐 객체 호출불가능) : 동영상 자동 종료\n",
    "                cap.release()  # 캡쳐 자원 반납\n",
    "                cv2.destroyAllWindows()  # 창종료\n",
    "                print(\"End of playback\")\n",
    "\n",
    "    else:\n",
    "        print(\"Can't open\")"
   ]
  },
  {
   "cell_type": "code",
   "execution_count": 8,
   "metadata": {},
   "outputs": [
    {
     "name": "stdout",
     "output_type": "stream",
     "text": [
      "0\n",
      "[27 42 65]\n",
      "0\n",
      "[23 37 63]\n",
      "0\n",
      "[21 30 49]\n",
      "Stop video\n"
     ]
    }
   ],
   "source": [
    "scs('smp.mp4')"
   ]
  },
  {
   "cell_type": "code",
   "execution_count": null,
   "metadata": {},
   "outputs": [],
   "source": []
  }
 ],
 "metadata": {
  "kernelspec": {
   "display_name": "Python 3",
   "language": "python",
   "name": "python3"
  },
  "language_info": {
   "codemirror_mode": {
    "name": "ipython",
    "version": 3
   },
   "file_extension": ".py",
   "mimetype": "text/x-python",
   "name": "python",
   "nbconvert_exporter": "python",
   "pygments_lexer": "ipython3",
   "version": "3.8.5"
  }
 },
 "nbformat": 4,
 "nbformat_minor": 4
}
